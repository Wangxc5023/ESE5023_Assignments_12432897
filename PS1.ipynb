{
 "cells": [
  {
   "cell_type": "code",
   "execution_count": 1,
   "id": "7d33d165-dfa8-42bd-b4d8-027ce0fe8b50",
   "metadata": {},
   "outputs": [
    {
     "name": "stdout",
     "output_type": "stream",
     "text": [
      "5\n"
     ]
    }
   ],
   "source": [
    "####第一题\n",
    "def Print_values(a,b,c):\n",
    "    if a>b:\n",
    "        if b>c:\n",
    "            x = a\n",
    "            y = b\n",
    "            z = c\n",
    "        else:\n",
    "            if a>c:\n",
    "                x = a\n",
    "                y = c\n",
    "                z = b\n",
    "            else:\n",
    "                x = c\n",
    "                y = a\n",
    "                z = b\n",
    "    else:\n",
    "        if b>c:\n",
    "            print()\n",
    "        else:\n",
    "            x = c\n",
    "            y = b\n",
    "            z = a\n",
    "    print(x+y-10*z)\n",
    "\n",
    "\n",
    "Print_values(10,5,1)"
   ]
  },
  {
   "cell_type": "code",
   "execution_count": 5,
   "id": "0c912da4-3989-43a9-9383-f8d72aaa7d1a",
   "metadata": {},
   "outputs": [
    {
     "name": "stdout",
     "output_type": "stream",
     "text": [
      "[1, 15]\n"
     ]
    }
   ],
   "source": [
    "####第二题\n",
    "import math\n",
    "\n",
    "def F(x, memo):\n",
    "    # 基础情况\n",
    "    if x == 1:\n",
    "        return 1\n",
    "\n",
    "    # 如果值已计算过，直接返回\n",
    "    if x in memo:\n",
    "        return memo[x]\n",
    "\n",
    "    # 递归计算\n",
    "    result = F(math.ceil(x / 3), memo) + 2 * x\n",
    "    memo[x] = result  # 将结果存储到 memo 字典中\n",
    "\n",
    "    return result\n",
    "\n",
    "def calculate_F_for_list(input_list):\n",
    "    memo = {}  # 用于记忆化存储已计算的 F(x) 值\n",
    "    results = []\n",
    "\n",
    "    for x in input_list:\n",
    "        results.append(F(x, memo))\n",
    "\n",
    "    return results\n",
    "\n",
    "\n",
    "input_list = [1, 5]\n",
    "results = calculate_F_for_list(input_list)\n",
    "print(results)"
   ]
  },
  {
   "cell_type": "code",
   "execution_count": 1,
   "id": "61a0a65e-398a-4041-8f10-4f6b776024e7",
   "metadata": {},
   "outputs": [
    {
     "name": "stdout",
     "output_type": "stream",
     "text": [
      "The value of x that yields the maximum number of ways is: 35\n",
      "The maximum number of ways is: 4395456\n"
     ]
    }
   ],
   "source": [
    "####第三题\n",
    "####3.1\n",
    "def Find_number_of_ways(x):\n",
    "    # 初始化动态规划数组，dp[i][j] 表示使用 i 个骰子得到和为 j 的方式数\n",
    "    dp = [[0] * (x + 1) for _ in range(11)]\n",
    "    dp[0][0] = 1  # 初始条件：0 个骰子得到和为 0 的方式数为 1\n",
    "\n",
    "    # 迭代计算每个骰子和每个可能的和\n",
    "    for i in range(1, 11):\n",
    "        for j in range(1, x + 1):\n",
    "            dp[i][j] = 0  # 初始化 dp[i][j] 为 0\n",
    "            \n",
    "            # 手动展开 sum 表达式，逐步计算 dp[i][j]\n",
    "            for k in range(1, 7):  # k 从 1 到 6，表示骰子的每一面\n",
    "                if j - k >= 0:  # 只考虑索引有效的情况\n",
    "                    dp[i][j] += dp[i - 1][j - k]  # 累加 dp[i-1][j-k] 的值\n",
    "\n",
    "    return dp[10][x]\n",
    "####3.2\n",
    "# 计算从 10 到 60 的每个和的方式数\n",
    "num_dice = 10\n",
    "num_faces = 6\n",
    "Number_of_ways = []\n",
    "\n",
    "for x in range(10, 61):\n",
    "    ways = Find_number_of_ways(x)\n",
    "    Number_of_ways.append(ways)\n",
    "\n",
    "# 找到使得方式数最多的和\n",
    "max_ways = max(Number_of_ways)\n",
    "max_x = 10 + Number_of_ways.index(max_ways)\n",
    "\n",
    "print(\"The value of x that yields the maximum number of ways is:\",max_x)\n",
    "print(\"The maximum number of ways is:\",max_ways)\n"
   ]
  },
  {
   "cell_type": "code",
   "execution_count": 3,
   "id": "1b581b78-f515-4db7-87d2-f62723d03eaf",
   "metadata": {},
   "outputs": [
    {
     "data": {
      "image/png": "[encoded data removed]",
      "text/plain": [
       "<Figure size 640x480 with 1 Axes>"
      ]
     },
     "metadata": {},
     "output_type": "display_data"
    },
    {
     "name": "stdout",
     "output_type": "stream",
     "text": [
      "[1.0, 4.5, 14.0, 37.5, 93.0, 220.5, 508.0, 1147.5000000000002, 2555.000000000001, 5626.5, 12281.999999999996, 26617.499999999996, 57336.99999999999, 122872.50000000001, 262135.99999999994, 557047.5000000001, 1179638.9999999998, 2490358.500000001, 5242870.000000004, 11010037.500000006]\n"
     ]
    }
   ],
   "source": [
    "####第四题\n",
    "####4.1\n",
    "import random\n",
    "\n",
    "# 定义一个生成随机整数数组的函数\n",
    "def Random_integer(N):\n",
    "    random_array = []  # 初始化一个空列表用于存储随机数\n",
    "    for i in range(N):\n",
    "        random_num = random.randint(0, 10)  # 生成一个 0 到 10 的随机整数\n",
    "        random_array.append(random_num)  # 将生成的随机整数添加到列表中\n",
    "    return random_array\n",
    "\n",
    "\n",
    "####4.2\n",
    "# 生成所有子集的函数\n",
    "def generate_subsets(arr):\n",
    "    subsets = [[]]  # 初始化一个空集\n",
    "\n",
    "    # 遍历数组中的每一个元素\n",
    "    for i in range(len(arr)):\n",
    "        num = arr[i]  # 当前的元素\n",
    "\n",
    "        new_subsets = []\n",
    "        for j in range(len(subsets)):  # 遍历当前的所有子集\n",
    "            current_subset = subsets[j]\n",
    "            new_subset = current_subset + [num]  # 把 num 加到现有的子集上\n",
    "            new_subsets.append(new_subset)  # 把新的子集添加到新生成的子集中\n",
    "\n",
    "        # 将新生成的子集加入到总的子集中\n",
    "        for k in range(len(new_subsets)):\n",
    "            subsets.append(new_subsets[k])\n",
    "\n",
    "    return subsets\n",
    " \n",
    "\n",
    "# 计算所有子集平均值之和的函数\n",
    "def Sum_averages(arr):\n",
    "    subsets = generate_subsets(arr)  # 生成所有子集\n",
    "    total_sum = 0\n",
    "\n",
    "    # 遍历所有生成的子集\n",
    "    for i in range(len(subsets)):\n",
    "        subset = subsets[i]\n",
    "        if len(subset) > 0:  # 忽略空子集\n",
    "            subset_sum = 0\n",
    "\n",
    "            # 计算子集的总和\n",
    "            for j in range(len(subset)):\n",
    "                subset_sum += subset[j]\n",
    "\n",
    "            # 计算子集的平均值，并将其加到总和中\n",
    "            total_sum += subset_sum / len(subset)\n",
    "\n",
    "    return total_sum\n",
    "\n",
    "####4.3\n",
    "import matplotlib.pyplot as plt\n",
    "\n",
    "Total_sum_averages = []  # 存储所有 N 值下的 Sum_averages 结果\n",
    "\n",
    "for N in range(1, 21):  # N 从 1 增加到 100\n",
    "    arr = list(range(1, N+1))  # 生成 1 到 N 的数组\n",
    "    result = Sum_averages(arr)  # 调用 Sum_averages 函数\n",
    "    Total_sum_averages.append(result)  # 将结果添加到列表中\n",
    "\n",
    "\n",
    "plt.plot(range(1, 21), Total_sum_averages)\n",
    "plt.xlabel('Array Length (N)')\n",
    "plt.ylabel('Sum of Subset Averages')\n",
    "plt.title('Sum of Subset Averages as N Increases')\n",
    "plt.show()\n",
    "\n",
    "\n",
    "print(Total_sum_averages)"
   ]
  },
  {
   "cell_type": "code",
   "execution_count": 13,
   "id": "42d37d4b-f9fb-46c1-acb6-9ff299857303",
   "metadata": {},
   "outputs": [
    {
     "name": "stdout",
     "output_type": "stream",
     "text": [
      "1000次运行后路径总数的平均值: 0.587\n"
     ]
    }
   ],
   "source": [
    "####第五题\n",
    "####5.1\n",
    "import random\n",
    "\n",
    "\n",
    "# 创建一个N行M列的矩阵，并随机填充0或1，左上角和右下角始终为1\n",
    "def create_random_matrix(N, M):\n",
    "    matrix = [[random.randint(0, 1) for _ in range(M)] for _ in range(N)]\n",
    "    matrix[0][0] = 1  # 左上角始终为1\n",
    "    matrix[N - 1][M - 1] = 1  # 右下角始终为1\n",
    "    return matrix\n",
    "\n",
    "\n",
    "####5.2\n",
    "# 计算从左上角到右下角的总路径数\n",
    "def Count_path(matrix, i, j, N, M):\n",
    "    # 如果当前点超出矩阵边界，或者是障碍（值为0），则无法通过\n",
    "    if i >= N or j >= M or matrix[i][j] == 0:\n",
    "        return 0\n",
    "\n",
    "    # 如果当前点是右下角，说明找到一条路径\n",
    "    if i == N - 1 and j == M - 1:\n",
    "        return 1\n",
    "\n",
    "    # 递归向右和向下移动\n",
    "    right_paths = Count_path(matrix, i, j + 1, N, M)  # 向右移动\n",
    "    down_paths = Count_path(matrix, i + 1, j, N, M)  # 向下移动\n",
    "\n",
    "    # 返回两种移动方式的总和\n",
    "    return right_paths + down_paths\n",
    "\n",
    "\n",
    "####5.3\n",
    "# 运行Count_path函数1000次并计算平均路径数\n",
    "def run_simulation(N, M, num_runs):\n",
    "    total_paths = 0\n",
    "    for _ in range(num_runs):\n",
    "        matrix = create_random_matrix(N, M)  # 创建随机矩阵\n",
    "        total_paths += Count_path(matrix, 0, 0, N, M)  # 计算路径数并累加\n",
    "    mean_paths = total_paths / num_runs  # 计算平均路径数\n",
    "    return mean_paths\n",
    "\n",
    "\n",
    "# 设置 N = 10, M = 8, 运行1000次\n",
    "N = 10\n",
    "M = 8\n",
    "num_runs = 1000\n",
    "\n",
    "\n",
    "mean_total_paths = run_simulation(N, M, num_runs)\n",
    "print(\"1000次运行后路径总数的平均值:\", mean_total_paths)"
   ]
  },
  {
   "cell_type": "code",
   "execution_count": null,
   "id": "a1920ecf-56ab-4d23-ace5-63fabe97988c",
   "metadata": {},
   "outputs": [],
   "source": []
  },
  {
   "cell_type": "code",
   "execution_count": null,
   "id": "01203a7e-af71-474a-bb83-2932e4aeb520",
   "metadata": {},
   "outputs": [],
   "source": []
  }
 ],
 "metadata": {
  "kernelspec": {
   "display_name": "Python 3 (ipykernel)",
   "language": "python",
   "name": "python3"
  },
  "language_info": {
   "codemirror_mode": {
    "name": "ipython",
    "version": 3
   },
   "file_extension": ".py",
   "mimetype": "text/x-python",
   "name": "python",
   "nbconvert_exporter": "python",
   "pygments_lexer": "ipython3",
   "version": "3.12.3"
  }
 },
 "nbformat": 4,
 "nbformat_minor": 5
}
